{
 "cells": [
  {
   "cell_type": "code",
   "execution_count": 1,
   "metadata": {},
   "outputs": [
    {
     "name": "stdout",
     "output_type": "stream",
     "text": [
      "WARNING:tensorflow:From c:\\Users\\VIKTOR\\AppData\\Local\\Programs\\Python\\Python310\\lib\\site-packages\\keras\\src\\losses.py:2976: The name tf.losses.sparse_softmax_cross_entropy is deprecated. Please use tf.compat.v1.losses.sparse_softmax_cross_entropy instead.\n",
      "\n"
     ]
    }
   ],
   "source": [
    "# Continue with regular imports\n",
    "import matplotlib.pyplot as plt\n",
    "import torch\n",
    "import torchvision\n",
    "\n",
    "from torch import nn\n",
    "from torchvision import transforms\n",
    "\n",
    "# Try to get torchinfo, install it if it doesn't work\n",
    "try:\n",
    "    from torchinfo import summary\n",
    "except:\n",
    "    print(\"[INFO] Couldn't find torchinfo... installing it.\")\n",
    "    !pip install -q torchinfo\n",
    "    from torchinfo import summary\n",
    "\n",
    "# Try to import the going_modular directory, download it from GitHub if it doesn't work\n",
    "try:\n",
    "    from going_modular import data_setup, engine\n",
    "except:\n",
    "    # Get the going_modular scripts\n",
    "    print(\"[INFO] Couldn't find going_modular scripts... downloading them from GitHub.\")\n",
    "    !git clone https://github.com/mrdbourke/pytorch-deep-learning\n",
    "    !mv pytorch-deep-learning/going_modular .\n",
    "    !rm -rf pytorch-deep-learning\n",
    "    from going_modular import data_setup, engine"
   ]
  },
  {
   "cell_type": "code",
   "execution_count": 2,
   "metadata": {},
   "outputs": [
    {
     "data": {
      "text/plain": [
       "WindowsPath('data/pizza_steak_sushi')"
      ]
     },
     "execution_count": 2,
     "metadata": {},
     "output_type": "execute_result"
    }
   ],
   "source": [
    "from pathlib import Path\n",
    "\n",
    "image_path = Path('data/pizza_steak_sushi/')\n",
    "image_path"
   ]
  },
  {
   "cell_type": "code",
   "execution_count": 3,
   "metadata": {},
   "outputs": [],
   "source": [
    "train_path = image_path / 'train'\n",
    "test_path = image_path / 'test'"
   ]
  },
  {
   "cell_type": "code",
   "execution_count": 4,
   "metadata": {},
   "outputs": [],
   "source": [
    "normalize = transforms.Normalize(mean=[0.485, 0.456, 0.406],\n",
    "                                 std=[0.229, 0.224, 0.225])\n",
    "\n",
    "manual_transform = transforms.Compose([\n",
    "    transforms.Resize(size=(224, 224)),\n",
    "    transforms.ToTensor(),\n",
    "    normalize\n",
    "])"
   ]
  },
  {
   "cell_type": "code",
   "execution_count": 5,
   "metadata": {},
   "outputs": [],
   "source": [
    "train_dataloader, test_dataloader, class_names = data_setup.create_dataloaders(train_dir=train_path,\n",
    "                                                                               test_dir=test_path,\n",
    "                                                                               transform=manual_transform,\n",
    "                                                                               batch_size=32)"
   ]
  },
  {
   "cell_type": "code",
   "execution_count": 6,
   "metadata": {},
   "outputs": [
    {
     "data": {
      "text/plain": [
       "(8, 3)"
      ]
     },
     "execution_count": 6,
     "metadata": {},
     "output_type": "execute_result"
    }
   ],
   "source": [
    "len(train_dataloader), len(test_dataloader)"
   ]
  },
  {
   "cell_type": "code",
   "execution_count": 7,
   "metadata": {},
   "outputs": [
    {
     "data": {
      "text/plain": [
       "['pizza', 'steak', 'sushi']"
      ]
     },
     "execution_count": 7,
     "metadata": {},
     "output_type": "execute_result"
    }
   ],
   "source": [
    "class_names"
   ]
  },
  {
   "cell_type": "code",
   "execution_count": 8,
   "metadata": {},
   "outputs": [],
   "source": [
    "weights = torchvision.models.EfficientNet_B0_Weights.DEFAULT\n",
    "model = torchvision.models.efficientnet_b0(weights=weights)"
   ]
  },
  {
   "cell_type": "code",
   "execution_count": 9,
   "metadata": {},
   "outputs": [],
   "source": [
    "for param in model.features.parameters():\n",
    "    param.requires_grad = False\n",
    "\n",
    "model.classifier = nn.Sequential(nn.Dropout(p=0.2, inplace=True),\n",
    "                                 nn.Linear(out_features=len(class_names), in_features=1280))"
   ]
  },
  {
   "cell_type": "code",
   "execution_count": 10,
   "metadata": {},
   "outputs": [
    {
     "data": {
      "text/plain": [
       "============================================================================================================================================\n",
       "Layer (type (var_name))                                      Input Shape          Output Shape         Param #              Trainable\n",
       "============================================================================================================================================\n",
       "EfficientNet (EfficientNet)                                  [32, 3, 224, 224]    [32, 3]              --                   Partial\n",
       "├─Sequential (features)                                      [32, 3, 224, 224]    [32, 1280, 7, 7]     --                   False\n",
       "│    └─Conv2dNormActivation (0)                              [32, 3, 224, 224]    [32, 32, 112, 112]   --                   False\n",
       "│    │    └─Conv2d (0)                                       [32, 3, 224, 224]    [32, 32, 112, 112]   (864)                False\n",
       "│    │    └─BatchNorm2d (1)                                  [32, 32, 112, 112]   [32, 32, 112, 112]   (64)                 False\n",
       "│    │    └─SiLU (2)                                         [32, 32, 112, 112]   [32, 32, 112, 112]   --                   --\n",
       "│    └─Sequential (1)                                        [32, 32, 112, 112]   [32, 16, 112, 112]   --                   False\n",
       "│    │    └─MBConv (0)                                       [32, 32, 112, 112]   [32, 16, 112, 112]   (1,448)              False\n",
       "│    └─Sequential (2)                                        [32, 16, 112, 112]   [32, 24, 56, 56]     --                   False\n",
       "│    │    └─MBConv (0)                                       [32, 16, 112, 112]   [32, 24, 56, 56]     (6,004)              False\n",
       "│    │    └─MBConv (1)                                       [32, 24, 56, 56]     [32, 24, 56, 56]     (10,710)             False\n",
       "│    └─Sequential (3)                                        [32, 24, 56, 56]     [32, 40, 28, 28]     --                   False\n",
       "│    │    └─MBConv (0)                                       [32, 24, 56, 56]     [32, 40, 28, 28]     (15,350)             False\n",
       "│    │    └─MBConv (1)                                       [32, 40, 28, 28]     [32, 40, 28, 28]     (31,290)             False\n",
       "│    └─Sequential (4)                                        [32, 40, 28, 28]     [32, 80, 14, 14]     --                   False\n",
       "│    │    └─MBConv (0)                                       [32, 40, 28, 28]     [32, 80, 14, 14]     (37,130)             False\n",
       "│    │    └─MBConv (1)                                       [32, 80, 14, 14]     [32, 80, 14, 14]     (102,900)            False\n",
       "│    │    └─MBConv (2)                                       [32, 80, 14, 14]     [32, 80, 14, 14]     (102,900)            False\n",
       "│    └─Sequential (5)                                        [32, 80, 14, 14]     [32, 112, 14, 14]    --                   False\n",
       "│    │    └─MBConv (0)                                       [32, 80, 14, 14]     [32, 112, 14, 14]    (126,004)            False\n",
       "│    │    └─MBConv (1)                                       [32, 112, 14, 14]    [32, 112, 14, 14]    (208,572)            False\n",
       "│    │    └─MBConv (2)                                       [32, 112, 14, 14]    [32, 112, 14, 14]    (208,572)            False\n",
       "│    └─Sequential (6)                                        [32, 112, 14, 14]    [32, 192, 7, 7]      --                   False\n",
       "│    │    └─MBConv (0)                                       [32, 112, 14, 14]    [32, 192, 7, 7]      (262,492)            False\n",
       "│    │    └─MBConv (1)                                       [32, 192, 7, 7]      [32, 192, 7, 7]      (587,952)            False\n",
       "│    │    └─MBConv (2)                                       [32, 192, 7, 7]      [32, 192, 7, 7]      (587,952)            False\n",
       "│    │    └─MBConv (3)                                       [32, 192, 7, 7]      [32, 192, 7, 7]      (587,952)            False\n",
       "│    └─Sequential (7)                                        [32, 192, 7, 7]      [32, 320, 7, 7]      --                   False\n",
       "│    │    └─MBConv (0)                                       [32, 192, 7, 7]      [32, 320, 7, 7]      (717,232)            False\n",
       "│    └─Conv2dNormActivation (8)                              [32, 320, 7, 7]      [32, 1280, 7, 7]     --                   False\n",
       "│    │    └─Conv2d (0)                                       [32, 320, 7, 7]      [32, 1280, 7, 7]     (409,600)            False\n",
       "│    │    └─BatchNorm2d (1)                                  [32, 1280, 7, 7]     [32, 1280, 7, 7]     (2,560)              False\n",
       "│    │    └─SiLU (2)                                         [32, 1280, 7, 7]     [32, 1280, 7, 7]     --                   --\n",
       "├─AdaptiveAvgPool2d (avgpool)                                [32, 1280, 7, 7]     [32, 1280, 1, 1]     --                   --\n",
       "├─Sequential (classifier)                                    [32, 1280]           [32, 3]              --                   True\n",
       "│    └─Dropout (0)                                           [32, 1280]           [32, 1280]           --                   --\n",
       "│    └─Linear (1)                                            [32, 1280]           [32, 3]              3,843                True\n",
       "============================================================================================================================================\n",
       "Total params: 4,011,391\n",
       "Trainable params: 3,843\n",
       "Non-trainable params: 4,007,548\n",
       "Total mult-adds (G): 12.31\n",
       "============================================================================================================================================\n",
       "Input size (MB): 19.27\n",
       "Forward/backward pass size (MB): 3452.09\n",
       "Params size (MB): 16.05\n",
       "Estimated Total Size (MB): 3487.41\n",
       "============================================================================================================================================"
      ]
     },
     "execution_count": 10,
     "metadata": {},
     "output_type": "execute_result"
    }
   ],
   "source": [
    "from torchinfo import summary\n",
    "\n",
    "# # Get a summary of the model (uncomment for full output)\n",
    "summary(model, \n",
    "        input_size=(32, 3, 224, 224), # make sure this is \"input_size\", not \"input_shape\" (batch_size, color_channels, height, width)\n",
    "        verbose=0,\n",
    "        col_names=[\"input_size\", \"output_size\", \"num_params\", \"trainable\"],\n",
    "        col_width=20,\n",
    "        row_settings=[\"var_names\"]\n",
    ")"
   ]
  },
  {
   "cell_type": "code",
   "execution_count": 11,
   "metadata": {},
   "outputs": [],
   "source": [
    "optimizer = torch.optim.Adam(params=model.parameters(), lr=0.001)\n",
    "loss_fn = torch.nn.CrossEntropyLoss()"
   ]
  },
  {
   "cell_type": "code",
   "execution_count": 12,
   "metadata": {},
   "outputs": [
    {
     "name": "stdout",
     "output_type": "stream",
     "text": [
      "[INFO] Created SummaryWriter, saving to: runs\\2024-09-30\\testing_writer\\efficientnet_b0...\n"
     ]
    }
   ],
   "source": [
    "from going_modular.utils import create_writer\n",
    "\n",
    "example_writer = create_writer('testing_writer', 'efficientnet_b0')"
   ]
  },
  {
   "cell_type": "code",
   "execution_count": 13,
   "metadata": {},
   "outputs": [
    {
     "data": {
      "application/vnd.jupyter.widget-view+json": {
       "model_id": "9257b1c9432942c28f142e47c4eb979c",
       "version_major": 2,
       "version_minor": 0
      },
      "text/plain": [
       "  0%|          | 0/5 [00:00<?, ?it/s]"
      ]
     },
     "metadata": {},
     "output_type": "display_data"
    },
    {
     "name": "stdout",
     "output_type": "stream",
     "text": [
      "Epoch: 1 | train_loss: 1.0470 | train_acc: 0.4258 | test_loss: 0.8832 | test_acc: 0.7330\n",
      "Epoch: 2 | train_loss: 0.8626 | train_acc: 0.6836 | test_loss: 0.7552 | test_acc: 0.8352\n",
      "Epoch: 3 | train_loss: 0.7245 | train_acc: 0.8828 | test_loss: 0.7246 | test_acc: 0.8040\n",
      "Epoch: 4 | train_loss: 0.7157 | train_acc: 0.7266 | test_loss: 0.6637 | test_acc: 0.8456\n",
      "Epoch: 5 | train_loss: 0.6393 | train_acc: 0.8008 | test_loss: 0.6287 | test_acc: 0.8665\n"
     ]
    }
   ],
   "source": [
    "results = engine.train(model=model,\n",
    "                train_dataloader=train_dataloader,\n",
    "                test_dataloader=test_dataloader,\n",
    "                optimizer=optimizer,\n",
    "                loss_fn=loss_fn,\n",
    "                epochs=5,\n",
    "                device='cpu',\n",
    "                writer=example_writer)"
   ]
  },
  {
   "cell_type": "code",
   "execution_count": 14,
   "metadata": {},
   "outputs": [
    {
     "data": {
      "text/plain": [
       "WindowsPath('data/pizza_steak_sushi_20_percent/train')"
      ]
     },
     "execution_count": 14,
     "metadata": {},
     "output_type": "execute_result"
    }
   ],
   "source": [
    "train_path_10_percent = image_path / 'train'\n",
    "test_path = image_path / 'test'\n",
    "\n",
    "train_path_20_percent = Path('data/pizza_steak_sushi_20_percent') / 'train'\n",
    "train_path_20_percent"
   ]
  },
  {
   "cell_type": "code",
   "execution_count": 15,
   "metadata": {},
   "outputs": [
    {
     "data": {
      "text/plain": [
       "Compose(\n",
       "    Resize(size=(224, 224), interpolation=bilinear, max_size=None, antialias=True)\n",
       "    ToTensor()\n",
       "    Normalize(mean=[0.485, 0.456, 0.406], std=[0.229, 0.224, 0.225])\n",
       ")"
      ]
     },
     "execution_count": 15,
     "metadata": {},
     "output_type": "execute_result"
    }
   ],
   "source": [
    "manual_transform"
   ]
  },
  {
   "cell_type": "code",
   "execution_count": 16,
   "metadata": {},
   "outputs": [],
   "source": [
    "BATCH_SIZE = 32     \n",
    "train_dataloader_10_percent, test_dataloader, class_names = data_setup.create_dataloaders(train_dir=train_path_10_percent,\n",
    "                                                                                          test_dir=test_path,\n",
    "                                                                                          transform=manual_transform,\n",
    "                                                                                          batch_size=BATCH_SIZE)\n",
    "train_dataloader_20_percent, test_dataloader, class_names = data_setup.create_dataloaders(train_dir=train_path_20_percent,\n",
    "                                                                                          test_dir=test_path,\n",
    "                                                                                          transform=manual_transform,\n",
    "                                                                                          batch_size=BATCH_SIZE)"
   ]
  },
  {
   "cell_type": "code",
   "execution_count": 17,
   "metadata": {},
   "outputs": [
    {
     "name": "stdout",
     "output_type": "stream",
     "text": [
      "Number of batches of size 32 in 10 percent training data: 8\n",
      "Number of batches of size 32 in 20 percent training data: 15\n",
      "Number of batches of size 32 in testing data: 3 (all experiments will use the same test set)\n",
      "Number of classes: 3, class names: ['pizza', 'steak', 'sushi']\n"
     ]
    }
   ],
   "source": [
    "print(f\"Number of batches of size {BATCH_SIZE} in 10 percent training data: {len(train_dataloader_10_percent)}\")\n",
    "print(f\"Number of batches of size {BATCH_SIZE} in 20 percent training data: {len(train_dataloader_20_percent)}\")\n",
    "print(f\"Number of batches of size {BATCH_SIZE} in testing data: {len(test_dataloader)} (all experiments will use the same test set)\")\n",
    "print(f\"Number of classes: {len(class_names)}, class names: {class_names}\")"
   ]
  },
  {
   "cell_type": "code",
   "execution_count": 18,
   "metadata": {},
   "outputs": [],
   "source": [
    "OUT_FEATURES = len(class_names)\n",
    "def create_effnetb0():\n",
    "\n",
    "    weights = torchvision.models.EfficientNet_B0_Weights.DEFAULT\n",
    "    model = torchvision.models.efficientnet_b0(weights=weights)\n",
    "\n",
    "    for param in model.features.parameters():\n",
    "        param.requires_grad = False\n",
    "\n",
    "    model.classifier = nn.Sequential(\n",
    "        nn.Dropout(p=0.2, inplace=True),\n",
    "        nn.Linear(in_features=1280, out_features=OUT_FEATURES, bias=True)\n",
    "    )\n",
    "\n",
    "    model.name = \"effnetb0\"\n",
    "    print(f\"[INFO] Created new {model.name} model.\")\n",
    "    return model\n",
    "\n",
    "def create_effnetb2():\n",
    "\n",
    "    weights = torchvision.models.EfficientNet_B2_Weights.DEFAULT\n",
    "    model = torchvision.models.efficientnet_b2(weights=weights)\n",
    "\n",
    "    for param in model.features.parameters():\n",
    "        param.requires_grad = False\n",
    "\n",
    "    model.classifier = nn.Sequential(\n",
    "        nn.Dropout(p=0.2, inplace=True),\n",
    "        nn.Linear(in_features=1408, out_features=OUT_FEATURES, bias=True)\n",
    "    )\n",
    "\n",
    "    model.name = \"effnetb2\"\n",
    "    print(f\"[INFO] Created new {model.name} model.\")\n",
    "    return model"
   ]
  },
  {
   "cell_type": "code",
   "execution_count": 19,
   "metadata": {},
   "outputs": [
    {
     "name": "stdout",
     "output_type": "stream",
     "text": [
      "[INFO] Created new effnetb0 model.\n",
      "[INFO] Created new effnetb2 model.\n"
     ]
    }
   ],
   "source": [
    "effnetb0 = create_effnetb0()\n",
    "effnetb2 = create_effnetb2()"
   ]
  },
  {
   "cell_type": "code",
   "execution_count": 20,
   "metadata": {},
   "outputs": [],
   "source": [
    "num_epochs = [5, 10]\n",
    "models = ['effnetb0', 'effnetb2']\n",
    "train_dataloaders = {'data_10_percent' : train_dataloader_10_percent,\n",
    "                     'data_20_percent' : train_dataloader_20_percent}"
   ]
  },
  {
   "cell_type": "code",
   "execution_count": 21,
   "metadata": {},
   "outputs": [],
   "source": [
    "from going_modular.utils import save_model"
   ]
  },
  {
   "cell_type": "code",
   "execution_count": 22,
   "metadata": {},
   "outputs": [
    {
     "name": "stdout",
     "output_type": "stream",
     "text": [
      "[INFO] Experiment number: 1\n",
      "[INFO] Model: effnetb0\n",
      "[INFO] DataLoader: data_10_percent\n",
      "[INFO] Number of epochs: 5\n",
      "[INFO] Created new effnetb0 model.\n",
      "[INFO] Created SummaryWriter, saving to: runs\\2024-09-30\\data_10_percent\\effnetb0\\5_epochs...\n"
     ]
    },
    {
     "data": {
      "application/vnd.jupyter.widget-view+json": {
       "model_id": "3e90231f0a2c46128bf6884e6be4787e",
       "version_major": 2,
       "version_minor": 0
      },
      "text/plain": [
       "  0%|          | 0/5 [00:00<?, ?it/s]"
      ]
     },
     "metadata": {},
     "output_type": "display_data"
    },
    {
     "name": "stdout",
     "output_type": "stream",
     "text": [
      "Epoch: 1 | train_loss: 1.0603 | train_acc: 0.4531 | test_loss: 0.8599 | test_acc: 0.7737\n",
      "Epoch: 2 | train_loss: 0.8492 | train_acc: 0.7109 | test_loss: 0.7185 | test_acc: 0.8665\n",
      "Epoch: 3 | train_loss: 0.7747 | train_acc: 0.7422 | test_loss: 0.6092 | test_acc: 0.9375\n",
      "Epoch: 4 | train_loss: 0.7031 | train_acc: 0.7578 | test_loss: 0.6161 | test_acc: 0.8769\n",
      "Epoch: 5 | train_loss: 0.6057 | train_acc: 0.9023 | test_loss: 0.5462 | test_acc: 0.9072\n",
      "[INFO] Saving model to: models\\07_effnetb0_data_10_percent_5_epochs.pth\n",
      "--------------------------------------------------\n",
      "\n",
      "[INFO] Experiment number: 2\n",
      "[INFO] Model: effnetb2\n",
      "[INFO] DataLoader: data_10_percent\n",
      "[INFO] Number of epochs: 5\n",
      "[INFO] Created new effnetb2 model.\n",
      "[INFO] Created SummaryWriter, saving to: runs\\2024-09-30\\data_10_percent\\effnetb2\\5_epochs...\n"
     ]
    },
    {
     "data": {
      "application/vnd.jupyter.widget-view+json": {
       "model_id": "3bdff581278f4c52b105720417dd26d2",
       "version_major": 2,
       "version_minor": 0
      },
      "text/plain": [
       "  0%|          | 0/5 [00:00<?, ?it/s]"
      ]
     },
     "metadata": {},
     "output_type": "display_data"
    },
    {
     "name": "stdout",
     "output_type": "stream",
     "text": [
      "Epoch: 1 | train_loss: 1.0258 | train_acc: 0.4961 | test_loss: 0.9667 | test_acc: 0.5492\n",
      "Epoch: 2 | train_loss: 0.8426 | train_acc: 0.6719 | test_loss: 0.8600 | test_acc: 0.6420\n",
      "Epoch: 3 | train_loss: 0.8240 | train_acc: 0.6484 | test_loss: 0.7855 | test_acc: 0.8258\n",
      "Epoch: 4 | train_loss: 0.6825 | train_acc: 0.8984 | test_loss: 0.7028 | test_acc: 0.8561\n",
      "Epoch: 5 | train_loss: 0.5771 | train_acc: 0.9219 | test_loss: 0.6824 | test_acc: 0.8665\n",
      "[INFO] Saving model to: models\\07_effnetb2_data_10_percent_5_epochs.pth\n",
      "--------------------------------------------------\n",
      "\n",
      "[INFO] Experiment number: 3\n",
      "[INFO] Model: effnetb0\n",
      "[INFO] DataLoader: data_10_percent\n",
      "[INFO] Number of epochs: 10\n",
      "[INFO] Created new effnetb0 model.\n",
      "[INFO] Created SummaryWriter, saving to: runs\\2024-09-30\\data_10_percent\\effnetb0\\10_epochs...\n"
     ]
    },
    {
     "data": {
      "application/vnd.jupyter.widget-view+json": {
       "model_id": "e3880d9204934260884f9c0b8f5396fe",
       "version_major": 2,
       "version_minor": 0
      },
      "text/plain": [
       "  0%|          | 0/10 [00:00<?, ?it/s]"
      ]
     },
     "metadata": {},
     "output_type": "display_data"
    },
    {
     "name": "stdout",
     "output_type": "stream",
     "text": [
      "Epoch: 1 | train_loss: 1.0021 | train_acc: 0.5469 | test_loss: 0.8902 | test_acc: 0.5388\n",
      "Epoch: 2 | train_loss: 0.9365 | train_acc: 0.4883 | test_loss: 0.8423 | test_acc: 0.6108\n",
      "Epoch: 3 | train_loss: 0.7781 | train_acc: 0.6953 | test_loss: 0.7036 | test_acc: 0.8153\n",
      "Epoch: 4 | train_loss: 0.6724 | train_acc: 0.7891 | test_loss: 0.6095 | test_acc: 0.8769\n",
      "Epoch: 5 | train_loss: 0.6985 | train_acc: 0.7656 | test_loss: 0.6157 | test_acc: 0.8665\n",
      "Epoch: 6 | train_loss: 0.5502 | train_acc: 0.9219 | test_loss: 0.5159 | test_acc: 0.8873\n",
      "Epoch: 7 | train_loss: 0.5638 | train_acc: 0.7852 | test_loss: 0.5056 | test_acc: 0.8968\n",
      "Epoch: 8 | train_loss: 0.5524 | train_acc: 0.8242 | test_loss: 0.4883 | test_acc: 0.8769\n",
      "Epoch: 9 | train_loss: 0.5244 | train_acc: 0.7852 | test_loss: 0.4242 | test_acc: 0.8968\n",
      "Epoch: 10 | train_loss: 0.4891 | train_acc: 0.7852 | test_loss: 0.4272 | test_acc: 0.9072\n",
      "[INFO] Saving model to: models\\07_effnetb0_data_10_percent_10_epochs.pth\n",
      "--------------------------------------------------\n",
      "\n",
      "[INFO] Experiment number: 4\n",
      "[INFO] Model: effnetb2\n",
      "[INFO] DataLoader: data_10_percent\n",
      "[INFO] Number of epochs: 10\n",
      "[INFO] Created new effnetb2 model.\n",
      "[INFO] Created SummaryWriter, saving to: runs\\2024-09-30\\data_10_percent\\effnetb2\\10_epochs...\n"
     ]
    },
    {
     "data": {
      "application/vnd.jupyter.widget-view+json": {
       "model_id": "922fffdafa21438e8e784b53c2e06f65",
       "version_major": 2,
       "version_minor": 0
      },
      "text/plain": [
       "  0%|          | 0/10 [00:00<?, ?it/s]"
      ]
     },
     "metadata": {},
     "output_type": "display_data"
    },
    {
     "name": "stdout",
     "output_type": "stream",
     "text": [
      "Epoch: 1 | train_loss: 1.0510 | train_acc: 0.4844 | test_loss: 0.9496 | test_acc: 0.6610\n",
      "Epoch: 2 | train_loss: 0.9322 | train_acc: 0.5039 | test_loss: 0.8590 | test_acc: 0.7434\n",
      "Epoch: 3 | train_loss: 0.7795 | train_acc: 0.6914 | test_loss: 0.7136 | test_acc: 0.8561\n",
      "Epoch: 4 | train_loss: 0.6715 | train_acc: 0.7695 | test_loss: 0.6891 | test_acc: 0.8873\n",
      "Epoch: 5 | train_loss: 0.6883 | train_acc: 0.7891 | test_loss: 0.6387 | test_acc: 0.8873\n",
      "Epoch: 6 | train_loss: 0.5928 | train_acc: 0.7930 | test_loss: 0.6310 | test_acc: 0.8873\n",
      "Epoch: 7 | train_loss: 0.5695 | train_acc: 0.8203 | test_loss: 0.5637 | test_acc: 0.8977\n",
      "Epoch: 8 | train_loss: 0.5525 | train_acc: 0.8281 | test_loss: 0.5698 | test_acc: 0.8873\n",
      "Epoch: 9 | train_loss: 0.4718 | train_acc: 0.9336 | test_loss: 0.5809 | test_acc: 0.9081\n",
      "Epoch: 10 | train_loss: 0.4288 | train_acc: 0.9180 | test_loss: 0.5779 | test_acc: 0.8873\n",
      "[INFO] Saving model to: models\\07_effnetb2_data_10_percent_10_epochs.pth\n",
      "--------------------------------------------------\n",
      "\n",
      "[INFO] Experiment number: 5\n",
      "[INFO] Model: effnetb0\n",
      "[INFO] DataLoader: data_20_percent\n",
      "[INFO] Number of epochs: 5\n",
      "[INFO] Created new effnetb0 model.\n",
      "[INFO] Created SummaryWriter, saving to: runs\\2024-09-30\\data_20_percent\\effnetb0\\5_epochs...\n"
     ]
    },
    {
     "data": {
      "application/vnd.jupyter.widget-view+json": {
       "model_id": "f736acdb7a8748daa56cb629b084d4d0",
       "version_major": 2,
       "version_minor": 0
      },
      "text/plain": [
       "  0%|          | 0/5 [00:00<?, ?it/s]"
      ]
     },
     "metadata": {},
     "output_type": "display_data"
    },
    {
     "name": "stdout",
     "output_type": "stream",
     "text": [
      "Epoch: 1 | train_loss: 0.9710 | train_acc: 0.5896 | test_loss: 0.7218 | test_acc: 0.7538\n",
      "Epoch: 2 | train_loss: 0.7173 | train_acc: 0.7771 | test_loss: 0.5871 | test_acc: 0.8968\n",
      "Epoch: 3 | train_loss: 0.5435 | train_acc: 0.8750 | test_loss: 0.5029 | test_acc: 0.8561\n",
      "Epoch: 4 | train_loss: 0.4638 | train_acc: 0.8917 | test_loss: 0.4462 | test_acc: 0.8769\n",
      "Epoch: 5 | train_loss: 0.4948 | train_acc: 0.8229 | test_loss: 0.3665 | test_acc: 0.9072\n",
      "[INFO] Saving model to: models\\07_effnetb0_data_20_percent_5_epochs.pth\n",
      "--------------------------------------------------\n",
      "\n",
      "[INFO] Experiment number: 6\n",
      "[INFO] Model: effnetb2\n",
      "[INFO] DataLoader: data_20_percent\n",
      "[INFO] Number of epochs: 5\n",
      "[INFO] Created new effnetb2 model.\n",
      "[INFO] Created SummaryWriter, saving to: runs\\2024-09-30\\data_20_percent\\effnetb2\\5_epochs...\n"
     ]
    },
    {
     "data": {
      "application/vnd.jupyter.widget-view+json": {
       "model_id": "ea6996da9912459f8262f414f67b6e0a",
       "version_major": 2,
       "version_minor": 0
      },
      "text/plain": [
       "  0%|          | 0/5 [00:00<?, ?it/s]"
      ]
     },
     "metadata": {},
     "output_type": "display_data"
    },
    {
     "name": "stdout",
     "output_type": "stream",
     "text": [
      "Epoch: 1 | train_loss: 0.9720 | train_acc: 0.5500 | test_loss: 0.8024 | test_acc: 0.8352\n",
      "Epoch: 2 | train_loss: 0.7104 | train_acc: 0.8042 | test_loss: 0.6422 | test_acc: 0.8759\n",
      "Epoch: 3 | train_loss: 0.6017 | train_acc: 0.8167 | test_loss: 0.6024 | test_acc: 0.8258\n",
      "Epoch: 4 | train_loss: 0.4648 | train_acc: 0.9167 | test_loss: 0.5244 | test_acc: 0.8665\n",
      "Epoch: 5 | train_loss: 0.4565 | train_acc: 0.8583 | test_loss: 0.4850 | test_acc: 0.8466\n",
      "[INFO] Saving model to: models\\07_effnetb2_data_20_percent_5_epochs.pth\n",
      "--------------------------------------------------\n",
      "\n",
      "[INFO] Experiment number: 7\n",
      "[INFO] Model: effnetb0\n",
      "[INFO] DataLoader: data_20_percent\n",
      "[INFO] Number of epochs: 10\n",
      "[INFO] Created new effnetb0 model.\n",
      "[INFO] Created SummaryWriter, saving to: runs\\2024-09-30\\data_20_percent\\effnetb0\\10_epochs...\n"
     ]
    },
    {
     "data": {
      "application/vnd.jupyter.widget-view+json": {
       "model_id": "c1a8a02aab1842e781f2e89b8691e45e",
       "version_major": 2,
       "version_minor": 0
      },
      "text/plain": [
       "  0%|          | 0/10 [00:00<?, ?it/s]"
      ]
     },
     "metadata": {},
     "output_type": "display_data"
    },
    {
     "name": "stdout",
     "output_type": "stream",
     "text": [
      "Epoch: 1 | train_loss: 0.9641 | train_acc: 0.5729 | test_loss: 0.6634 | test_acc: 0.9271\n",
      "Epoch: 2 | train_loss: 0.7045 | train_acc: 0.8271 | test_loss: 0.5508 | test_acc: 0.8769\n",
      "Epoch: 3 | train_loss: 0.5585 | train_acc: 0.8792 | test_loss: 0.4781 | test_acc: 0.8977\n",
      "Epoch: 4 | train_loss: 0.4624 | train_acc: 0.8896 | test_loss: 0.4001 | test_acc: 0.9176\n",
      "Epoch: 5 | train_loss: 0.4188 | train_acc: 0.8833 | test_loss: 0.3740 | test_acc: 0.9081\n",
      "Epoch: 6 | train_loss: 0.4228 | train_acc: 0.8625 | test_loss: 0.3591 | test_acc: 0.8873\n",
      "Epoch: 7 | train_loss: 0.3787 | train_acc: 0.8729 | test_loss: 0.3443 | test_acc: 0.9186\n",
      "Epoch: 8 | train_loss: 0.3466 | train_acc: 0.9125 | test_loss: 0.3127 | test_acc: 0.9384\n",
      "Epoch: 9 | train_loss: 0.2969 | train_acc: 0.9167 | test_loss: 0.3231 | test_acc: 0.9081\n",
      "Epoch: 10 | train_loss: 0.3327 | train_acc: 0.9125 | test_loss: 0.3197 | test_acc: 0.9280\n",
      "[INFO] Saving model to: models\\07_effnetb0_data_20_percent_10_epochs.pth\n",
      "--------------------------------------------------\n",
      "\n",
      "[INFO] Experiment number: 8\n",
      "[INFO] Model: effnetb2\n",
      "[INFO] DataLoader: data_20_percent\n",
      "[INFO] Number of epochs: 10\n",
      "[INFO] Created new effnetb2 model.\n",
      "[INFO] Created SummaryWriter, saving to: runs\\2024-09-30\\data_20_percent\\effnetb2\\10_epochs...\n"
     ]
    },
    {
     "data": {
      "application/vnd.jupyter.widget-view+json": {
       "model_id": "8aaa4f25881945828035c2428ba722e4",
       "version_major": 2,
       "version_minor": 0
      },
      "text/plain": [
       "  0%|          | 0/10 [00:00<?, ?it/s]"
      ]
     },
     "metadata": {},
     "output_type": "display_data"
    },
    {
     "name": "stdout",
     "output_type": "stream",
     "text": [
      "Epoch: 1 | train_loss: 0.9701 | train_acc: 0.5667 | test_loss: 0.8035 | test_acc: 0.7746\n",
      "Epoch: 2 | train_loss: 0.7157 | train_acc: 0.8208 | test_loss: 0.6540 | test_acc: 0.8561\n",
      "Epoch: 3 | train_loss: 0.5618 | train_acc: 0.8708 | test_loss: 0.5701 | test_acc: 0.8561\n",
      "Epoch: 4 | train_loss: 0.4946 | train_acc: 0.9229 | test_loss: 0.5477 | test_acc: 0.8665\n",
      "Epoch: 5 | train_loss: 0.4923 | train_acc: 0.8354 | test_loss: 0.4644 | test_acc: 0.9176\n",
      "Epoch: 6 | train_loss: 0.3910 | train_acc: 0.9187 | test_loss: 0.4915 | test_acc: 0.8466\n",
      "Epoch: 7 | train_loss: 0.3724 | train_acc: 0.9229 | test_loss: 0.4339 | test_acc: 0.8977\n",
      "Epoch: 8 | train_loss: 0.3422 | train_acc: 0.9104 | test_loss: 0.4319 | test_acc: 0.8674\n",
      "Epoch: 9 | train_loss: 0.3834 | train_acc: 0.8625 | test_loss: 0.3992 | test_acc: 0.8977\n",
      "Epoch: 10 | train_loss: 0.3272 | train_acc: 0.8708 | test_loss: 0.3627 | test_acc: 0.9384\n",
      "[INFO] Saving model to: models\\07_effnetb2_data_20_percent_10_epochs.pth\n",
      "--------------------------------------------------\n",
      "\n"
     ]
    }
   ],
   "source": [
    "\n",
    "experiment_number = 0\n",
    "for dataloader_name, train_dataloader in train_dataloaders.items():\n",
    "\n",
    "    for epochs in num_epochs:\n",
    "\n",
    "        for model_name in models:\n",
    "\n",
    "            experiment_number += 1\n",
    "            print(f\"[INFO] Experiment number: {experiment_number}\")\n",
    "            print(f\"[INFO] Model: {model_name}\")\n",
    "            print(f\"[INFO] DataLoader: {dataloader_name}\")\n",
    "            print(f\"[INFO] Number of epochs: {epochs}\")\n",
    "\n",
    "            if model_name == 'effnetb0':\n",
    "                model = create_effnetb0()\n",
    "            else:\n",
    "                model = create_effnetb2()\n",
    "\n",
    "            loss_fn = torch.nn.CrossEntropyLoss()\n",
    "            optimizer = torch.optim.Adam(params=model.parameters(), lr = 0.001)\n",
    "\n",
    "            engine.train(model=model,\n",
    "                                   train_dataloader=train_dataloader,\n",
    "                                   test_dataloader=test_dataloader,\n",
    "                                   optimizer=optimizer,\n",
    "                                   loss_fn=loss_fn,\n",
    "                                   epochs=epochs,\n",
    "                                   device='cpu',\n",
    "                                   writer=create_writer(experiment_name=dataloader_name,\n",
    "                                                        model_name=model_name,\n",
    "                                                        extra=f'{epochs}_epochs'))\n",
    "            \n",
    "            save_filepath = f\"07_{model_name}_{dataloader_name}_{epochs}_epochs.pth\"\n",
    "            save_model(model=model,\n",
    "                       target_dir=\"models\",\n",
    "                       model_name=save_filepath)\n",
    "            print(\"-\"*50 + \"\\n\")"
   ]
  },
  {
   "cell_type": "code",
   "execution_count": null,
   "metadata": {},
   "outputs": [],
   "source": []
  }
 ],
 "metadata": {
  "kernelspec": {
   "display_name": "Python 3",
   "language": "python",
   "name": "python3"
  },
  "language_info": {
   "codemirror_mode": {
    "name": "ipython",
    "version": 3
   },
   "file_extension": ".py",
   "mimetype": "text/x-python",
   "name": "python",
   "nbconvert_exporter": "python",
   "pygments_lexer": "ipython3",
   "version": "3.10.11"
  }
 },
 "nbformat": 4,
 "nbformat_minor": 2
}
