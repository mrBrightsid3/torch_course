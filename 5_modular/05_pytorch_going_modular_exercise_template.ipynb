{
  "cells": [
    {
      "cell_type": "markdown",
      "metadata": {
        "colab_type": "text",
        "id": "view-in-github"
      },
      "source": [
        "<a href=\"https://colab.research.google.com/github/mrdbourke/pytorch-deep-learning/blob/main/extras/exercises/05_pytorch_going_modular_exercise_template.ipynb\" target=\"_parent\"><img src=\"https://colab.research.google.com/assets/colab-badge.svg\" alt=\"Open In Colab\"/></a>"
      ]
    },
    {
      "cell_type": "markdown",
      "metadata": {
        "id": "zNqPNlYylluR"
      },
      "source": [
        "# 05. PyTorch Going Modular Exercises\n",
        "\n",
        "Welcome to the 05. PyTorch Going Modular exercise template notebook.\n",
        "\n",
        "There are several questions in this notebook and it's your goal to answer them by writing Python and PyTorch code.\n",
        "\n",
        "> **Note:** There may be more than one solution to each of the exercises, don't worry too much about the *exact* right answer. Try to write some code that works first and then improve it if you can.\n",
        "\n",
        "## Resources and solutions\n",
        "\n",
        "* These exercises/solutions are based on [section 05. PyTorch Going Modular](https://www.learnpytorch.io/05_pytorch_going_modular/) of the Learn PyTorch for Deep Learning course by Zero to Mastery.\n",
        "\n",
        "**Solutions:** \n",
        "\n",
        "Try to complete the code below *before* looking at these.\n",
        "\n",
        "* See a live [walkthrough of the solutions (errors and all) on YouTube](https://youtu.be/ijgFhMK3pp4).\n",
        "* See an example [solutions notebook for these exercises on GitHub](https://github.com/mrdbourke/pytorch-deep-learning/blob/main/extras/solutions/05_pytorch_going_modular_exercise_solutions.ipynb)."
      ]
    },
    {
      "cell_type": "markdown",
      "metadata": {
        "id": "bicbWSrPmfTU"
      },
      "source": [
        "## 1. Turn the code to get the data (from section 1. Get Data) into a Python script, such as `get_data.py`.\n",
        "\n",
        "* When you run the script using `python get_data.py` it should check if the data already exists and skip downloading if it does.\n",
        "* If the data download is successful, you should be able to access the `pizza_steak_sushi` images from the `data` directory."
      ]
    },
    {
      "cell_type": "code",
      "execution_count": null,
      "metadata": {
        "id": "r0BCn1XIYZ8c"
      },
      "outputs": [],
      "source": [
        "# YOUR CODE HERE"
      ]
    },
    {
      "cell_type": "code",
      "execution_count": null,
      "metadata": {
        "id": "_LrUOIC-YOP9"
      },
      "outputs": [],
      "source": [
        "# Example running of get_data.py\n",
        "!python get_data.py"
      ]
    },
    {
      "cell_type": "markdown",
      "metadata": {
        "id": "zjyn7LU3mvkR"
      },
      "source": [
        "## 2. Use [Python's `argparse` module](https://docs.python.org/3/library/argparse.html) to be able to send the `train.py` custom hyperparameter values for training procedures.\n",
        "* Add an argument flag for using a different:\n",
        "  * Training/testing directory\n",
        "  * Learning rate\n",
        "  * Batch size\n",
        "  * Number of epochs to train for\n",
        "  * Number of hidden units in the TinyVGG model\n",
        "    * Keep the default values for each of the above arguments as what they already are (as in notebook 05).\n",
        "* For example, you should be able to run something similar to the following line to train a TinyVGG model with a learning rate of 0.003 and a batch size of 64 for 20 epochs: `python train.py --learning_rate 0.003 batch_size 64 num_epochs 20`.\n",
        "* **Note:** Since `train.py` leverages the other scripts we created in section 05, such as, `model_builder.py`, `utils.py` and `engine.py`, you'll have to make sure they're available to use too. You can find these in the [`going_modular` folder on the course GitHub](https://github.com/mrdbourke/pytorch-deep-learning/tree/main/going_modular/going_modular). "
      ]
    },
    {
      "cell_type": "code",
      "execution_count": null,
      "metadata": {
        "id": "MKNDUp45YaW-"
      },
      "outputs": [],
      "source": [
        "# YOUR CODE HERE"
      ]
    },
    {
      "cell_type": "code",
      "execution_count": 4,
      "metadata": {
        "id": "LzaJl39lC40N"
      },
      "outputs": [
        {
          "name": "stdout",
          "output_type": "stream",
          "text": [
            "Active code page: 65001\n",
            "Epoch: 1 | train_loss: 1.0972 | train_acc: 0.3329 | test_loss: 1.0912 | test_acc: 0.3333\n",
            "Epoch: 2 | train_loss: 1.0819 | train_acc: 0.3459 | test_loss: 1.0820 | test_acc: 0.3733\n",
            "Epoch: 3 | train_loss: 1.0528 | train_acc: 0.4815 | test_loss: 1.0453 | test_acc: 0.4267\n",
            "Epoch: 4 | train_loss: 1.0028 | train_acc: 0.5107 | test_loss: 1.0000 | test_acc: 0.5333\n",
            "Epoch: 5 | train_loss: 0.9544 | train_acc: 0.5159 | test_loss: 0.9787 | test_acc: 0.4533\n",
            "Epoch: 6 | train_loss: 0.8927 | train_acc: 0.5948 | test_loss: 1.0300 | test_acc: 0.4000\n",
            "Epoch: 7 | train_loss: 0.8735 | train_acc: 0.6154 | test_loss: 0.9733 | test_acc: 0.5067\n",
            "[INFO] Saving model to: models\\05_going_modular_script_mode_tinyvgg_model.pth\n"
          ]
        },
        {
          "name": "stderr",
          "output_type": "stream",
          "text": [
            "\n",
            "  0%|          | 0/7 [00:00<?, ?it/s]\n",
            " 14%|█▍        | 1/7 [00:56<05:38, 56.35s/it]\n",
            " 29%|██▊       | 2/7 [01:50<04:36, 55.22s/it]\n",
            " 43%|████▎     | 3/7 [02:40<03:30, 52.60s/it]\n",
            " 57%|█████▋    | 4/7 [03:27<02:32, 50.68s/it]\n",
            " 71%|███████▏  | 5/7 [04:15<01:38, 49.50s/it]\n",
            " 86%|████████▌ | 6/7 [05:03<00:48, 48.87s/it]\n",
            "100%|██████████| 7/7 [05:50<00:00, 48.36s/it]\n",
            "100%|██████████| 7/7 [05:50<00:00, 50.05s/it]\n"
          ]
        }
      ],
      "source": [
        "# Example running of train.py\n",
        "!chcp 65001\n",
        "!python going_modular/train.py --num_epochs 7 --batch_size 128 --hidden_units 128 --learning_rate 0.0003"
      ]
    },
    {
      "cell_type": "markdown",
      "metadata": {
        "id": "P2g6EEYvm-46"
      },
      "source": [
        "## 3. Create a Python script to predict (such as `predict.py`) on a target image given a file path with a saved model.\n",
        "\n",
        "* For example, you should be able to run the command `python predict.py some_image.jpeg` and have a trained PyTorch model predict on the image and return its prediction.\n",
        "* To see example prediction code, check out the [predicting on a custom image section in notebook 04](https://www.learnpytorch.io/04_pytorch_custom_datasets/#113-putting-custom-image-prediction-together-building-a-function). \n",
        "* You may also have to write code to load in a trained model."
      ]
    },
    {
      "cell_type": "code",
      "execution_count": null,
      "metadata": {
        "id": "HU7W6VZfYawP"
      },
      "outputs": [],
      "source": [
        "# YOUR CODE HERE\n",
        "\n",
        "import torch\n",
        "\n",
        "def "
      ]
    },
    {
      "cell_type": "code",
      "execution_count": null,
      "metadata": {
        "id": "Zcvw9sitIn6r"
      },
      "outputs": [],
      "source": [
        "# Example running of predict.py \n",
        "!python predict.py --image data/pizza_steak_sushi/test/sushi/175783.jpg"
      ]
    }
  ],
  "metadata": {
    "accelerator": "GPU",
    "colab": {
      "authorship_tag": "ABX9TyNcX0JATB1YsaAFGNe0TGWq",
      "collapsed_sections": [],
      "include_colab_link": true,
      "name": "05_pytorch_going_modular_exercise_template.ipynb",
      "provenance": []
    },
    "kernelspec": {
      "display_name": "Python 3",
      "name": "python3"
    },
    "language_info": {
      "codemirror_mode": {
        "name": "ipython",
        "version": 3
      },
      "file_extension": ".py",
      "mimetype": "text/x-python",
      "name": "python",
      "nbconvert_exporter": "python",
      "pygments_lexer": "ipython3",
      "version": "3.10.11"
    }
  },
  "nbformat": 4,
  "nbformat_minor": 0
}
